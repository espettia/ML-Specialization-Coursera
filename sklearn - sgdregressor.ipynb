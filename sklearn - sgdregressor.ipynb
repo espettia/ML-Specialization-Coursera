{
 "cells": [
  {
   "cell_type": "code",
   "execution_count": 11,
   "id": "94fea129",
   "metadata": {},
   "outputs": [],
   "source": [
    "#Usar numpy de ley\n",
    "#Usar scikit para el regresor lineal\n",
    "#Usar scikit para preprocesar\n",
    "#Usar matplotlib para graficar\n",
    "\n",
    "import numpy as np\n",
    "from sklearn.linear_model import SGDRegressor\n",
    "from sklearn.preprocessing import StandardScaler\n",
    "import matplotlib.pyplot as plt\n"
   ]
  },
  {
   "cell_type": "code",
   "execution_count": 12,
   "id": "91a29cb5",
   "metadata": {},
   "outputs": [],
   "source": [
    "X_train = np.array([[2104, 5, 1, 45], \n",
    "                    [1416, 3, 2, 40], \n",
    "                    [852, 2, 1, 35],\n",
    "                    [234,563,743,232],\n",
    "                    [12,673,14,864],\n",
    "                    [123,13,532,754],\n",
    "                    [74,263,785,234],\n",
    "                    [123,5,543,223]])\n",
    "Y_target = np.array([460, 232, 178, 214, 523,634,123,563])\n",
    "\n",
    "X_norm = StandardScaler().fit_transform(X_train)\n"
   ]
  },
  {
   "cell_type": "code",
   "execution_count": 19,
   "id": "620bbe00",
   "metadata": {},
   "outputs": [
    {
     "name": "stdout",
     "output_type": "stream",
     "text": [
      "[ 71.33963948 -89.95077935  20.95607931 203.59861397] [365.84472923]\n"
     ]
    }
   ],
   "source": [
    "sgdr = SGDRegressor(max_iter=10000)\n",
    "sgdr.fit(X_norm, Y_target)\n",
    "\n",
    "w_norm = sgdr.coef_\n",
    "b_norm = sgdr.intercept_\n",
    "Y_predict = sgdr.predict(X_norm)\n",
    "\n",
    "print(w_norm,b_norm)"
   ]
  },
  {
   "cell_type": "code",
   "execution_count": 20,
   "id": "275d075d",
   "metadata": {},
   "outputs": [
    {
     "data": {
      "image/png": "[encoded data removed]",
      "text/plain": [
       "<Figure size 720x216 with 4 Axes>"
      ]
     },
     "metadata": {
      "needs_background": "light"
     },
     "output_type": "display_data"
    }
   ],
   "source": [
    "fig,ax = plt.subplots(1,4,figsize=(10,3),sharey=True)\n",
    "for i in range(4):\n",
    "    ax[i].scatter(X_train[:,i],Y_target,label='Target')\n",
    "    ax[i].scatter(X_train[:,i],Y_predict,label='Predict',color='orange')\n",
    "    ax[i].set_title(f'Feature {i+1}')\n",
    "ax[0].legend(); ax[0].set_ylabel('Y')\n",
    "\n",
    "plt.suptitle(\"Grafico\")\n",
    "plt.tight_layout()\n",
    "plt.show()"
   ]
  }
 ],
 "metadata": {
  "kernelspec": {
   "display_name": "Python 3 (ipykernel)",
   "language": "python",
   "name": "python3"
  },
  "language_info": {
   "codemirror_mode": {
    "name": "ipython",
    "version": 3
   },
   "file_extension": ".py",
   "mimetype": "text/x-python",
   "name": "python",
   "nbconvert_exporter": "python",
   "pygments_lexer": "ipython3",
   "version": "3.10.12"
  }
 },
 "nbformat": 4,
 "nbformat_minor": 5
}
