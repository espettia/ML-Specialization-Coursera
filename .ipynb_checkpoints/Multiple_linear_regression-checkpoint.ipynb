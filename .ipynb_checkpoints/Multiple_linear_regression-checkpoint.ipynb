{
 "cells": [
  {
   "cell_type": "code",
   "execution_count": 37,
   "id": "fc9a5e1b",
   "metadata": {},
   "outputs": [],
   "source": [
    "#features -> parámetros\n",
    "#parameters -> cost function\n",
    "#cost function -> minimización\n",
    "\n",
    "import copy, math\n",
    "import numpy as np\n",
    "import matplotlib.pyplot as plt\n",
    "\n",
    "X_train = np.array([[2104, 5, 1, 45], [1416, 3, 2, 40], [852, 2, 1, 35]])\n",
    "y_train = np.array([460, 232, 178])\n",
    "W = [0,0,0]\n",
    "def f(w,b,x):\n",
    "    return b + np.dot(w,x)\n",
    "\n",
    "def dJ(w,b,nd):\n",
    "    m = len(w)\n",
    "    return np.sum((np.array(map(lambda x: f(w,b,x),X_train))+y_train)*np.sum(map(lambda x: x[nd] if nd<len(w) else 1, X_train)))/m\n",
    "\n",
    "def grad_descent(w,b,a,n):\n",
    "    for i in range(n):\n",
    "        new_w = map(lambda wi: wi[1] - a*dJ(w,b,wi[0]), enumerate(w))\n",
    "        new_b = b - a*dJ(w,b,len(w))\n",
    "        w=new_w\n",
    "        b=new_b\n",
    "    return w.append(b)\n",
    "\n",
    "ww, bb= grad_descent([0,0,0,0],0,0.5,100)\n",
    "print(ww)"
   ]
  },
  {
   "cell_type": "code",
   "execution_count": null,
   "id": "c96bc7e5",
   "metadata": {},
   "outputs": [],
   "source": []
  }
 ],
 "metadata": {
  "kernelspec": {
   "display_name": "Python 3 (ipykernel)",
   "language": "python",
   "name": "python3"
  },
  "language_info": {
   "codemirror_mode": {
    "name": "ipython",
    "version": 3
   },
   "file_extension": ".py",
   "mimetype": "text/x-python",
   "name": "python",
   "nbconvert_exporter": "python",
   "pygments_lexer": "ipython3",
   "version": "3.10.12"
  }
 },
 "nbformat": 4,
 "nbformat_minor": 5
}
