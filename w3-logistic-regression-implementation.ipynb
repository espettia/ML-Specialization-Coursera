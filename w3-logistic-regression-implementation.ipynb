{
 "cells": [
  {
   "cell_type": "code",
   "execution_count": 2,
   "id": "5e8128e0",
   "metadata": {},
   "outputs": [
    {
     "name": "stdout",
     "output_type": "stream",
     "text": [
      "[1 0]\n"
     ]
    },
    {
     "data": {
      "image/png": "[encoded data removed]",
      "text/plain": [
       "<Figure size 432x288 with 1 Axes>"
      ]
     },
     "metadata": {
      "needs_background": "light"
     },
     "output_type": "display_data"
    },
    {
     "name": "stdout",
     "output_type": "stream",
     "text": [
      "[ 1.70527539e+00 -2.95822839e-31]\n"
     ]
    },
    {
     "data": {
      "image/png": "[encoded data removed]",
      "text/plain": [
       "<Figure size 432x288 with 1 Axes>"
      ]
     },
     "metadata": {
      "needs_background": "light"
     },
     "output_type": "display_data"
    }
   ],
   "source": [
    "#Siempre comenzamos con un modelo\n",
    "#En es este caso será: Regresión Logística\n",
    "#Tiene una particularidad: El DECISION BOUNDARY\n",
    "#que lo podemos modelar de forma lineal o polinómica\n",
    "#Trabajaremos con modelo lineal:\n",
    "#Para ajustar los parámetros y encontrar el mejor modelo\n",
    "#usaremos la funcion costo\n",
    "#En este caso es el LOG-LOSS function\n",
    "#Pues la funciń MSE no nos perite usar descenso gradiente\n",
    "import numpy as np\n",
    "import matplotlib.pyplot as plt\n",
    "\n",
    "X_train = np.arange(14)\n",
    "Y_target = np.array([0,0,0,0,0,0,1,1,1,1,1,1,1,0])\n",
    "\n",
    "def z_score_norm(X):\n",
    "    return (X-np.mean(X))/np.std(X)\n",
    "\n",
    "X_train=z_score_norm(X_train)\n",
    "\n",
    "def l(z):\n",
    "    return 1/(1+np.exp(-z))\n",
    "def f(x,w,b):\n",
    "    return np.dot(x,w)+b\n",
    "\n",
    "#Función sigmoide\n",
    "#lt.plot(np.arange(-20,20),list(map(l,np.arange(-20,20))))\n",
    "#lt.show()\n",
    "\n",
    "#Log-loss->asumiendo z lineal\n",
    "def log_loss(W,b,y,X):\n",
    "    Y=y[:,np.newaxis]\n",
    "    ff = X[:,np.newaxis]@W[:,np.newaxis]+b\n",
    "    ff = 1/(1+np.exp(-ff))\n",
    "    return np.sum(-Y*np.log(ff)-(1-Y)*(np.log(1-ff)))/len(X)\n",
    "\n",
    "def dJ(W,b,Y,X):\n",
    "    ff = X[:,np.newaxis]@W[:,np.newaxis]+b\n",
    "    ff = 1/(1+np.exp(-ff))-Y[:,np.newaxis]\n",
    "    return np.sum(ff*np.c_[X,np.ones(len(X))],axis=0)/len(X)\n",
    "\n",
    "def GDRegression(W,b,X,Y,it,alpha):\n",
    "    pars = np.append(W,b)\n",
    "    error=[]\n",
    "    print(pars)\n",
    "    for i in range(it):\n",
    "        pars=pars-alpha*dJ(pars[:-1],pars[-1],Y,X)\n",
    "        error.append(log_loss(pars[:-1],pars[-1],Y,X))\n",
    "    plt.plot(np.arange(it),error)\n",
    "    plt.title(\"Error x Iteración\")\n",
    "    plt.show()\n",
    "    print(pars)\n",
    "    return pars\n",
    "\n",
    "pars = GDRegression(np.array([1]),0,X_train,Y_target,100,10)\n",
    "W=pars[:-1]\n",
    "b=pars[-1]\n",
    "\n",
    "plt.scatter(X_train,1/(1+np.exp(-(X_train[:,np.newaxis]@W[:,np.newaxis]+b))),color='orange',label='predict')\n",
    "plt.scatter(X_train,Y_target,label='target')\n",
    "plt.legend()\n",
    "plt.show()"
   ]
  }
 ],
 "metadata": {
  "kernelspec": {
   "display_name": "Python 3 (ipykernel)",
   "language": "python",
   "name": "python3"
  },
  "language_info": {
   "codemirror_mode": {
    "name": "ipython",
    "version": 3
   },
   "file_extension": ".py",
   "mimetype": "text/x-python",
   "name": "python",
   "nbconvert_exporter": "python",
   "pygments_lexer": "ipython3",
   "version": "3.10.12"
  }
 },
 "nbformat": 4,
 "nbformat_minor": 5
}
